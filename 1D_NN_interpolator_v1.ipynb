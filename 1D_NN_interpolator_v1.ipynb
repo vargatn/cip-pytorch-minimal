{
 "cells": [
  {
   "cell_type": "code",
   "execution_count": 71,
   "id": "fe7c2c71-b860-4cf7-8c09-091848d36fa4",
   "metadata": {},
   "outputs": [],
   "source": [
    "import torch\n",
    "from torch import nn\n",
    "from torch.utils.data import DataLoader\n",
    "from torchvision import datasets\n",
    "from torchvision.transforms import ToTensor\n",
    "\n",
    "from torch.utils.data import Dataset\n",
    "from torchvision import datasets\n",
    "from torchvision.transforms import ToTensor\n",
    "import matplotlib.pyplot as plt\n",
    "\n",
    "import numpy as np\n",
    "\n",
    "import os\n",
    "import pandas as pd\n",
    "from torchvision.io import read_image"
   ]
  },
  {
   "cell_type": "markdown",
   "id": "7a08e241-4ddd-4d9f-a087-8ab4f0793dd9",
   "metadata": {},
   "source": [
    "# Create an example dataset"
   ]
  },
  {
   "cell_type": "code",
   "execution_count": 72,
   "id": "06310bf5-e2d0-48a2-aed4-aeaa682188f5",
   "metadata": {},
   "outputs": [],
   "source": [
    "class MockData(object):\n",
    "    \"\"\"This object is a callable mock data generator\"\"\"\n",
    "    def __init__(self, a=1, b=2, c=3, ):\n",
    "        self.a = a\n",
    "        self.b = b\n",
    "        self.c = c\n",
    "        \n",
    "    def __call__(self, x):\n",
    "        result = self.a + self.b * x + self.c * x ** 2\n",
    "        return result\n",
    "    \n",
    "\n",
    "    "
   ]
  },
  {
   "cell_type": "code",
   "execution_count": 73,
   "id": "75da6cbc-28eb-4f6f-9e55-772a100f2f0b",
   "metadata": {},
   "outputs": [],
   "source": [
    "md = MockData()"
   ]
  },
  {
   "cell_type": "code",
   "execution_count": 98,
   "id": "af8931ea-e6f8-46dd-a79e-722d43489e8e",
   "metadata": {},
   "outputs": [],
   "source": [
    "xarr = np.random.normal(loc=-1, size=10000).astype(float)"
   ]
  },
  {
   "cell_type": "code",
   "execution_count": 99,
   "id": "330e1a01-f574-4685-a2da-83e3e8a5c755",
   "metadata": {},
   "outputs": [],
   "source": [
    "yarr = md(xarr)"
   ]
  },
  {
   "cell_type": "code",
   "execution_count": 76,
   "id": "722369c4-a4f4-4940-a6d2-f60d1dea3acf",
   "metadata": {},
   "outputs": [
    {
     "data": {
      "text/plain": [
       "<matplotlib.collections.PathCollection at 0x7f3ed35414c0>"
      ]
     },
     "execution_count": 76,
     "metadata": {},
     "output_type": "execute_result"
    },
    {
     "data": {
      "image/png": "[encoded data removed]",
      "text/plain": [
       "<Figure size 432x288 with 1 Axes>"
      ]
     },
     "metadata": {
      "needs_background": "light"
     },
     "output_type": "display_data"
    }
   ],
   "source": [
    "fig = plt.figure()\n",
    "ax = fig.add_subplot(111)\n",
    "\n",
    "ax.scatter(xarr, yarr, s=0.1)"
   ]
  },
  {
   "cell_type": "code",
   "execution_count": 77,
   "id": "4f56baf5-dae0-46d1-aa02-509338356f04",
   "metadata": {},
   "outputs": [
    {
     "data": {
      "text/plain": [
       "array([-1.27860197, -1.26294072, -1.96554101, ..., -1.30214997,\n",
       "        0.35874897, -0.30929849])"
      ]
     },
     "execution_count": 77,
     "metadata": {},
     "output_type": "execute_result"
    }
   ],
   "source": [
    "xarr"
   ]
  },
  {
   "cell_type": "markdown",
   "id": "66e413af-4702-4b01-b5e4-998e2fc6a357",
   "metadata": {},
   "source": [
    "## Creating custom data loader"
   ]
  },
  {
   "cell_type": "code",
   "execution_count": 225,
   "id": "2da31e55-572b-41ca-a793-efb724eff8f4",
   "metadata": {},
   "outputs": [],
   "source": [
    "class CustomFunctionDataset(Dataset):\n",
    "    def __init__(self, xarr, yarr, transform=None, target_transform=None):\n",
    "        self.xarr = xarr\n",
    "        self.yarr = yarr\n",
    "        self.transform = transform\n",
    "        self.target_transform = target_transform\n",
    "\n",
    "    def __len__(self):\n",
    "        return len(xarr)\n",
    "\n",
    "    def __getitem__(self, idx):\n",
    "        xval = np.array([xarr[idx],])\n",
    "        yval = np.array([yarr[idx],])\n",
    "        if self.transform:\n",
    "            xval = self.transform(xval)\n",
    "        if self.target_transform:\n",
    "            yval = self.target_transform(yval)\n",
    "        return xval.astype(np.single), yval.astype(np.single)"
   ]
  },
  {
   "cell_type": "code",
   "execution_count": 226,
   "id": "105c06b4-b962-40f3-9cef-32e1857a6190",
   "metadata": {},
   "outputs": [],
   "source": [
    "cfd = CustomFunctionDataset(xarr, yarr)"
   ]
  },
  {
   "cell_type": "code",
   "execution_count": 227,
   "id": "c8f9129b-2d61-4513-9f93-e2433ea74b08",
   "metadata": {},
   "outputs": [
    {
     "data": {
      "text/plain": [
       "(array([-0.10323229], dtype=float32), array([0.82550615], dtype=float32))"
      ]
     },
     "execution_count": 227,
     "metadata": {},
     "output_type": "execute_result"
    }
   ],
   "source": [
    "cfd[1]"
   ]
  },
  {
   "cell_type": "markdown",
   "id": "fc1c562d-1641-4387-a93b-ef1f8da565be",
   "metadata": {},
   "source": [
    "# Prepare for training network"
   ]
  },
  {
   "cell_type": "markdown",
   "id": "1bb0e03b-affb-4ac4-918a-b827548e98c3",
   "metadata": {},
   "source": [
    "## Prepare test and training data"
   ]
  },
  {
   "cell_type": "code",
   "execution_count": 228,
   "id": "70340f44-273f-43e3-b98b-bb5882a92afc",
   "metadata": {},
   "outputs": [
    {
     "data": {
      "text/plain": [
       "262144"
      ]
     },
     "execution_count": 228,
     "metadata": {},
     "output_type": "execute_result"
    }
   ],
   "source": [
    "2**18"
   ]
  },
  {
   "cell_type": "code",
   "execution_count": 239,
   "id": "2eae69cf-a00d-488e-861a-ff3995742948",
   "metadata": {},
   "outputs": [
    {
     "name": "stdout",
     "output_type": "stream",
     "text": [
      "Shape of X [N, C, H, W]: torch.Size([64, 1])\n",
      "Shape of y: torch.Size([64, 1]) torch.float32\n"
     ]
    }
   ],
   "source": [
    "data_size = 2 ** 18\n",
    "batch_size = 32\n",
    "\n",
    "xarr_train = np.random.normal(loc=-1, size=data_size).astype(np.single)\n",
    "yarr_train = md(xarr_train).astype(np.single)\n",
    "\n",
    "xarr_test = np.random.normal(loc=-1, size=data_size).astype(np.single)\n",
    "yarr_test = md(xarr_test).astype(np.single)\n",
    "\n",
    "# Create data loaders.\n",
    "training_data = CustomFunctionDataset(xarr_train, yarr_train)\n",
    "test_data = CustomFunctionDataset(xarr_test, yarr_test)\n",
    "\n",
    "\n",
    "train_dataloader = DataLoader(training_data, batch_size=64, shuffle=True)\n",
    "test_dataloader = DataLoader(test_data, batch_size=64, shuffle=True)\n",
    "\n",
    "for X, y in test_dataloader:\n",
    "    print(f\"Shape of X [N, C, H, W]: {X.shape}\")\n",
    "    print(f\"Shape of y: {y.shape} {y.dtype}\")\n",
    "    break"
   ]
  },
  {
   "cell_type": "markdown",
   "id": "ad8bb39b-b36d-4c84-ae1a-dcebdb5ed75d",
   "metadata": {},
   "source": [
    "### Define model"
   ]
  },
  {
   "cell_type": "code",
   "execution_count": 240,
   "id": "8cc75c22-f09c-4103-ba62-3f321a9c121a",
   "metadata": {},
   "outputs": [
    {
     "name": "stdout",
     "output_type": "stream",
     "text": [
      "Using cuda device\n"
     ]
    }
   ],
   "source": [
    "# Get cpu or gpu device for training.\n",
    "device = \"cuda\" if torch.cuda.is_available() else \"cpu\"\n",
    "print(f\"Using {device} device\")\n",
    "\n",
    "# This should be using cuda device"
   ]
  },
  {
   "cell_type": "code",
   "execution_count": 241,
   "id": "b19ab460-02a5-4dff-a1a3-fc0fac43ca8c",
   "metadata": {},
   "outputs": [
    {
     "name": "stdout",
     "output_type": "stream",
     "text": [
      "NeuralNetwork(\n",
      "  (flatten): Flatten(start_dim=1, end_dim=-1)\n",
      "  (linear_relu_stack): Sequential(\n",
      "    (0): Linear(in_features=1, out_features=16, bias=True)\n",
      "    (1): ReLU()\n",
      "    (2): Linear(in_features=16, out_features=1, bias=True)\n",
      "  )\n",
      ")\n"
     ]
    }
   ],
   "source": [
    "\n",
    "# Define model\n",
    "class NeuralNetwork(nn.Module):\n",
    "    def __init__(self):\n",
    "        super(NeuralNetwork, self).__init__()\n",
    "        self.flatten = nn.Flatten()\n",
    "        self.linear_relu_stack = nn.Sequential(\n",
    "            nn.Linear(in_features=1, out_features=16),\n",
    "            nn.ReLU(),\n",
    "            nn.Linear(in_features=16, out_features=1),\n",
    "        )\n",
    "        self.float()\n",
    "        \n",
    "    def forward(self, x):\n",
    "        x = self.flatten(x).float()\n",
    "        logits = self.linear_relu_stack(x)\n",
    "        return logits\n",
    "\n",
    "model = NeuralNetwork().to(device)\n",
    "print(model)"
   ]
  },
  {
   "cell_type": "markdown",
   "id": "fe59f56c-ceba-460b-8754-9e1dfc7baaa6",
   "metadata": {},
   "source": [
    "# Defining optimizer and loss function "
   ]
  },
  {
   "cell_type": "code",
   "execution_count": 242,
   "id": "c3a64a5f-45fd-44c2-9f7f-18483b0990d3",
   "metadata": {},
   "outputs": [],
   "source": [
    "loss_fn = nn.MSELoss()\n",
    "optimizer = torch.optim.SGD(model.parameters(), lr=1e-3)"
   ]
  },
  {
   "cell_type": "code",
   "execution_count": 243,
   "id": "55ace981-509f-4472-950d-474c3720e501",
   "metadata": {},
   "outputs": [],
   "source": [
    "def train(dataloader, model, loss_fn, optimizer, verbose=False):\n",
    "    size = len(dataloader.dataset)\n",
    "    model.train()\n",
    "    for batch, (X, y) in enumerate(dataloader):\n",
    "        X, y = X.to(device), y.to(device)\n",
    "\n",
    "        # Compute prediction error\n",
    "        pred = model(X)\n",
    "        loss = loss_fn(pred, y)\n",
    "\n",
    "        # Backpropagation\n",
    "        optimizer.zero_grad()\n",
    "        loss.backward()\n",
    "        optimizer.step()\n",
    "\n",
    "        if (batch % 100 == 0) & verbose:\n",
    "            loss, current = loss.item(), batch * len(X)\n",
    "            print(f\"loss: {loss:>7f}  [{current:>5d}/{size:>5d}]\")"
   ]
  },
  {
   "cell_type": "code",
   "execution_count": 244,
   "id": "c193f46a-5242-44b6-98f8-873a03713534",
   "metadata": {},
   "outputs": [],
   "source": [
    "def test(dataloader, model, loss_fn, verbose=False):\n",
    "    size = len(dataloader.dataset)\n",
    "    num_batches = len(dataloader)\n",
    "    model.eval()\n",
    "    test_loss, correct = 0, 0\n",
    "    with torch.no_grad():\n",
    "        for X, y in dataloader:\n",
    "            X, y = X.to(device), y.to(device)\n",
    "            pred = model(X)\n",
    "            test_loss += loss_fn(pred, y).item()\n",
    "            correct += (pred.argmax(1) == y).type(torch.float).sum().item()\n",
    "    test_loss /= num_batches\n",
    "    correct /= size\n",
    "    if verbose:\n",
    "        print(f\"Test Error: \\n Accuracy: {(100*correct):>0.1f}%, Avg loss: {test_loss:>8f} \\n\")"
   ]
  },
  {
   "cell_type": "code",
   "execution_count": 245,
   "id": "3f0b97ed-906a-4201-877d-647324561e30",
   "metadata": {},
   "outputs": [
    {
     "name": "stdout",
     "output_type": "stream",
     "text": [
      "Epoch 1\n",
      "-------------------------------\n",
      "loss: 63.626575  [    0/10000]\n",
      "loss: 6.743835  [ 6400/10000]\n",
      "Test Error: \n",
      " Accuracy: 0.0%, Avg loss: 12.042826 \n",
      "\n",
      "Epoch 11\n",
      "-------------------------------\n",
      "loss: 1.269513  [    0/10000]\n",
      "loss: 2.547653  [ 6400/10000]\n",
      "Test Error: \n",
      " Accuracy: 0.0%, Avg loss: 1.513248 \n",
      "\n",
      "Epoch 21\n",
      "-------------------------------\n",
      "loss: 0.111375  [    0/10000]\n",
      "loss: 0.177620  [ 6400/10000]\n",
      "Test Error: \n",
      " Accuracy: 0.0%, Avg loss: 0.581204 \n",
      "\n",
      "Epoch 31\n",
      "-------------------------------\n",
      "loss: 0.065024  [    0/10000]\n",
      "loss: 0.117870  [ 6400/10000]\n",
      "Test Error: \n",
      " Accuracy: 0.0%, Avg loss: 0.361898 \n",
      "\n",
      "Epoch 41\n",
      "-------------------------------\n",
      "loss: 0.144208  [    0/10000]\n",
      "loss: 0.058950  [ 6400/10000]\n",
      "Test Error: \n",
      " Accuracy: 0.0%, Avg loss: 0.262361 \n",
      "\n",
      "Epoch 51\n",
      "-------------------------------\n",
      "loss: 0.029147  [    0/10000]\n",
      "loss: 0.282437  [ 6400/10000]\n",
      "Test Error: \n",
      " Accuracy: 0.0%, Avg loss: 0.205931 \n",
      "\n",
      "Epoch 61\n",
      "-------------------------------\n",
      "loss: 0.081720  [    0/10000]\n",
      "loss: 0.043596  [ 6400/10000]\n",
      "Test Error: \n",
      " Accuracy: 0.0%, Avg loss: 0.171201 \n",
      "\n",
      "Epoch 71\n",
      "-------------------------------\n",
      "loss: 0.022464  [    0/10000]\n",
      "loss: 0.033126  [ 6400/10000]\n",
      "Test Error: \n",
      " Accuracy: 0.0%, Avg loss: 0.147256 \n",
      "\n",
      "Epoch 81\n",
      "-------------------------------\n",
      "loss: 0.024579  [    0/10000]\n",
      "loss: 0.013998  [ 6400/10000]\n",
      "Test Error: \n",
      " Accuracy: 0.0%, Avg loss: 0.129201 \n",
      "\n",
      "Epoch 91\n",
      "-------------------------------\n",
      "loss: 0.043992  [    0/10000]\n",
      "loss: 0.014086  [ 6400/10000]\n",
      "Test Error: \n",
      " Accuracy: 0.0%, Avg loss: 0.115730 \n",
      "\n",
      "loss: 0.023012  [    0/10000]\n",
      "loss: 0.021492  [ 6400/10000]\n",
      "Test Error: \n",
      " Accuracy: 0.0%, Avg loss: 0.105571 \n",
      "\n",
      "Done!\n"
     ]
    }
   ],
   "source": [
    "epochs = 100\n",
    "for t in range(epochs-1):\n",
    "    if t % 10 == 0:        \n",
    "        print(f\"Epoch {t+1}\\n-------------------------------\")\n",
    "        verbose = True\n",
    "    else: \n",
    "        verbose = False\n",
    "    train(train_dataloader, model, loss_fn, optimizer, verbose=verbose)\n",
    "    test(test_dataloader, model, loss_fn, verbose=verbose)\n",
    "    \n",
    "train(train_dataloader, model, loss_fn, optimizer, verbose=True)\n",
    "test(test_dataloader, model, loss_fn, verbose=True)    \n",
    "print(\"Done!\")"
   ]
  },
  {
   "cell_type": "code",
   "execution_count": 246,
   "id": "b7b514cc-7120-440a-96e9-aba72b35467c",
   "metadata": {},
   "outputs": [],
   "source": [
    "with torch.no_grad():\n",
    "    xvals = []\n",
    "    pvals = []\n",
    "    for X, y in test_dataloader:\n",
    "        X, y = X.to(device), y.to(device)\n",
    "        pred = model(X).cpu().numpy()\n",
    "        xvals.append(X.cpu().numpy())\n",
    "        pvals.append(pred)\n",
    "\n",
    "pvals = np.concatenate(pvals)\n",
    "xvals = np.concatenate(xvals)\n",
    "#pvals = torch.concat(pvals)\n",
    "#xvals = torch.concat(xvals)"
   ]
  },
  {
   "cell_type": "code",
   "execution_count": 254,
   "id": "be4dd20d-6782-49cf-b3b4-9c2441d493d6",
   "metadata": {},
   "outputs": [
    {
     "data": {
      "text/plain": [
       "Text(0, 0.5, 'f ( x )')"
      ]
     },
     "execution_count": 254,
     "metadata": {},
     "output_type": "execute_result"
    },
    {
     "data": {
      "image/png": "[encoded data removed]",
      "text/plain": [
       "<Figure size 432x288 with 1 Axes>"
      ]
     },
     "metadata": {
      "needs_background": "light"
     },
     "output_type": "display_data"
    }
   ],
   "source": [
    "fig = plt.figure()\n",
    "ax = fig.add_subplot()\n",
    "\n",
    "ax.scatter(xarr_test, yarr_test, s=0.4, label=\"test data\")\n",
    "ax.scatter(xvals, pvals, s=0.4, label=\"prediction data\")\n",
    "ax.legend()\n",
    "ax.set_xlabel('x', fontsize=12)\n",
    "ax.set_ylabel('f ( x )', fontsize=12)"
   ]
  },
  {
   "cell_type": "code",
   "execution_count": null,
   "id": "d3dac301-473f-4588-b1b3-fb6b2406cac4",
   "metadata": {},
   "outputs": [],
   "source": []
  },
  {
   "cell_type": "code",
   "execution_count": null,
   "id": "570a058b-8a8a-42d6-b2b8-91baa3d5e63d",
   "metadata": {},
   "outputs": [],
   "source": []
  }
 ],
 "metadata": {
  "kernelspec": {
   "display_name": "Python 3 (ipykernel)",
   "language": "python",
   "name": "python3"
  },
  "language_info": {
   "codemirror_mode": {
    "name": "ipython",
    "version": 3
   },
   "file_extension": ".py",
   "mimetype": "text/x-python",
   "name": "python",
   "nbconvert_exporter": "python",
   "pygments_lexer": "ipython3",
   "version": "3.9.7"
  }
 },
 "nbformat": 4,
 "nbformat_minor": 5
}
